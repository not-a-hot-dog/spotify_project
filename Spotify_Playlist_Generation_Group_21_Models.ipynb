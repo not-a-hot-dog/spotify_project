{
 "cells": [
  {
   "cell_type": "markdown",
   "metadata": {},
   "source": [
    "# Spotify Playlist Generation Project - Model Code\n",
    "AC209a Project Group 21 - Project D \n",
    "Team Members: Matthew Finney, Kaivalya Rawal, Royce Yap, David Zheng"
   ]
  },
  {
   "cell_type": "markdown",
   "metadata": {},
   "source": [
    "## Exploratory Data Analyis\n",
    "\n",
    "See the submitted EDA notebook here: https://github.com/not-a-hot-dog/spotify_project/blob/master/eda/Exploratory_Data_Analysis.ipynb"
   ]
  },
  {
   "cell_type": "markdown",
   "metadata": {},
   "source": [
    "## Models"
   ]
  },
  {
   "cell_type": "markdown",
   "metadata": {},
   "source": [
    "### Import and Defined Functions Used Accross Models"
   ]
  },
  {
   "cell_type": "code",
   "execution_count": 1,
   "metadata": {},
   "outputs": [],
   "source": [
    "import numpy as np\n",
    "import pandas as pd\n",
    "import seaborn as sns\n",
    "import time\n",
    "import matplotlib.pyplot as plt\n",
    "from scipy.sparse import coo_matrix\n",
    "from scipy.sparse import save_npz\n",
    "from scipy.sparse import load_npz\n",
    "from sklearn.cluster import KMeans\n",
    "\n",
    "np.random.seed(21)"
   ]
  },
  {
   "cell_type": "code",
   "execution_count": 2,
   "metadata": {},
   "outputs": [],
   "source": [
    "# Helper function to get tracks for a pid\n",
    "from sklearn.model_selection import train_test_split\n",
    "\n",
    "\n",
    "def get_tracks(pid, playlist_df):\n",
    "    tracks = list(playlist_df.loc[playlist_df['pid'] == pid, 'track_uri'])\n",
    "    return tracks\n",
    "\n",
    "\n",
    "# Helper function to get summary of track features from an array of tracks (e.g., get_tracks output)\n",
    "def get_summary_features(track_uri_array, track_df):\n",
    "    subset_track_df = track_df.loc[track_uri_array, :]\n",
    "    features_mean = subset_track_df.describe().loc[['std'], :].reset_index(drop=True)\n",
    "    features_mean.columns = [str(col) + '_mean' for col in features_mean.columns]\n",
    "    features_std = subset_track_df.describe().loc[['std'], :].reset_index(drop=True)\n",
    "    features_std.columns = [str(col) + '_std' for col in features_std.columns]\n",
    "    artist_uri_freq = subset_track_df.artist_uri.value_counts(normalize=True)[0]\n",
    "    if artist_uri_freq > 0.3:  # If the top artist doesn't have 30% of track in the playlist, ignore\n",
    "        top_artist = pd.DataFrame([{'artist_uri_top': subset_track_df.artist_uri.value_counts(normalize=True).index[0],\n",
    "                                    'artist_uri_freq': artist_uri_freq\n",
    "                                    }]).reset_index(drop=True)\n",
    "    else:\n",
    "        top_artist = pd.DataFrame([{'artist_uri_top': np.NaN, 'artist_uri_freq': 0}])\n",
    "\n",
    "    features = pd.concat([features_mean, features_std, top_artist], axis=1, sort=False)\n",
    "    return features\n",
    "\n",
    "# Helper function to get summary of track features, including artists\n",
    "def val_test_features(track_uri_array, track_df, top_artists, pid=None):\n",
    "    # Load list of dominating artists\n",
    "    top_playlist_defining_artists = top_artists\n",
    "\n",
    "    # Get summary features\n",
    "    stub_playlist_features = get_summary_features(track_uri_array, track_df)\n",
    "\n",
    "    artists_to_keep = stub_playlist_features.artist_uri_top.isin(top_playlist_defining_artists)\n",
    "    stub_playlist_features.artist_uri_top = stub_playlist_features.artist_uri_top[artists_to_keep]\n",
    "    stub_playlist_features.artist_uri_freq = stub_playlist_features.artist_uri_freq[artists_to_keep]\n",
    "    stub_playlist_features.artist_uri_freq.fillna(0, inplace=True)\n",
    "    stub_artist_dummies = pd.get_dummies(stub_playlist_features.artist_uri_top)\n",
    "    top_artist_dummies = pd.DataFrame(columns=top_playlist_defining_artists)\n",
    "    top_artist_dummies = pd.concat([top_artist_dummies, stub_artist_dummies], axis=0, sort=False)\n",
    "    top_artist_dummies.fillna(0, inplace=True)\n",
    "    stub_playlist_features = pd.concat([stub_playlist_features, top_artist_dummies], axis=1)\n",
    "    stub_playlist_features.drop(['artist_uri_top'], axis=1, inplace=True)\n",
    "    if pid:\n",
    "        stub_playlist_features.index = [pid]\n",
    "\n",
    "    return stub_playlist_features\n",
    "\n",
    "\n",
    "def build_playlist_features(pid_list, playlist_df, track_df):\n",
    "    output = pd.DataFrame()\n",
    "    for pid in pid_list:\n",
    "        output = output.append(get_summary_features(get_tracks(pid, playlist_df), track_df))\n",
    "    output = output.set_index(pd.Index(pid_list))\n",
    "    return output\n",
    "\n",
    "\n",
    "def stub_withhold_split(pid: int, playlist_df: pd.DataFrame=None):\n",
    "    if playlist_df is None: playlist_df = pd.read_csv('/data/playlists.csv')\n",
    "    tracks = get_tracks(pid, playlist_df)\n",
    "    stub_tracks, withhold_tracks = train_test_split(tracks, random_state=21, test_size=0.3)\n",
    "    return stub_tracks, withhold_tracks"
   ]
  },
  {
   "cell_type": "markdown",
   "metadata": {},
   "source": [
    "### Model Evaluation Metrics"
   ]
  },
  {
   "cell_type": "code",
   "execution_count": 59,
   "metadata": {},
   "outputs": [],
   "source": [
    "# Model Evaluation Metrics, adapted from https://recsys-challenge.spotify.com/rules\n",
    "def r_precision(predicted_tracks: np.ndarray, withhold_tracks: np.ndarray):\n",
    "    mask = np.isin(withhold_tracks, predicted_tracks) # Give credit for predicting a track that's in withhold twice!\n",
    "    r_precision_score = np.sum(mask)/len(withhold_tracks)\n",
    "    return r_precision_score\n",
    "\n",
    "\n",
    "def hit_rate(predicted_tracks: np.ndarray, withhold_tracks: np.ndarray):\n",
    "    mask = np.isin(predicted_tracks, withhold_tracks)\n",
    "    hit_rate_score = np.sum(mask)/len(predicted_tracks)\n",
    "    return hit_rate_score\n",
    "\n",
    "\n",
    "def dcg(withhold_tracks, predicted_tracks):\n",
    "    try:\n",
    "        mask = np.isin(predicted_tracks, withhold_tracks)\n",
    "        score = np.sum(mask[0]) + np.sum(mask[1:] / np.log2(np.arange(2, mask.size + 1)))\n",
    "    except Exception:\n",
    "        score = np.NaN\n",
    "    return score\n",
    "\n",
    "\n",
    "def idcg(withhold_tracks):\n",
    "    n_withheld = len(withhold_tracks)\n",
    "    ones = np.ones(n_withheld-1)\n",
    "    score = 1 + np.sum(ones / np.log2(np.arange(2, n_withheld + 1)))\n",
    "    return max(score, 1)\n",
    "\n",
    "\n",
    "def ndcg(withhold_tracks, predicted_tracks):\n",
    "    dcg_score = dcg(withhold_tracks=withhold_tracks, predicted_tracks=predicted_tracks)\n",
    "    idcg_score = idcg(withhold_tracks)\n",
    "    ndcg_score = dcg_score/idcg_score\n",
    "    return ndcg_score"
   ]
  },
  {
   "cell_type": "markdown",
   "metadata": {},
   "source": [
    "## Naive Bayes Model"
   ]
  },
  {
   "cell_type": "code",
   "execution_count": 60,
   "metadata": {},
   "outputs": [],
   "source": [
    "playlists = pd.read_csv('./data/playlists.csv')\n",
    "train_pids = pd.read_csv('./data/train_pids.csv').to_numpy().reshape(1,-1)[0]\n",
    "val_pids = pd.read_csv('./data/val_pids.csv').to_numpy().reshape(1,-1)[0]\n",
    "test_pids = pd.read_csv('./data/test_pids.csv').to_numpy().reshape(1,-1)[0]"
   ]
  },
  {
   "cell_type": "code",
   "execution_count": 61,
   "metadata": {},
   "outputs": [],
   "source": [
    "index_to_track = {}\n",
    "track_to_index = {}\n",
    "for index, track in enumerate(np.unique(playlists.track_uri)):\n",
    "    index_to_track[index] = track\n",
    "    track_to_index[track] = index\n",
    "num_unique_tracks = len(track_to_index)"
   ]
  },
  {
   "cell_type": "code",
   "execution_count": 62,
   "metadata": {},
   "outputs": [],
   "source": [
    "selected_indices = []\n",
    "unselected_indices = []\n",
    "max_tracks_in_playlist = 10000\n",
    "for i, j in enumerate(np.random.random(max_tracks_in_playlist)):\n",
    "    if j < 0.7:\n",
    "        selected_indices.append(i)\n",
    "    else:\n",
    "        unselected_indices.append(i)"
   ]
  },
  {
   "cell_type": "code",
   "execution_count": 63,
   "metadata": {},
   "outputs": [],
   "source": [
    "def add_playlist(model, tracks):\n",
    "    tracks = [track_to_index[j] for _, j in tracks.items()]\n",
    "    for i, track1 in enumerate(tracks):\n",
    "        for j in range(0,i):\n",
    "            model[track1, tracks[j]] += 1"
   ]
  },
  {
   "cell_type": "code",
   "execution_count": 64,
   "metadata": {},
   "outputs": [
    {
     "name": "stdout",
     "output_type": "stream",
     "text": [
      "\n",
      " 1\n",
      ".................................................\n",
      " 1001\n",
      ".................................................\n",
      " 2001\n",
      ".................................................\n",
      " 3001\n",
      ".................................................\n",
      " 4001\n",
      ".................................................\n",
      " 5001\n",
      ".................................................\n",
      " 6001\n",
      ".................................................\n",
      " 7001\n",
      ".................................................\n",
      " 8001\n",
      ".................................................\n",
      " 9001\n",
      ".................................................\n",
      " 10001\n",
      ".................................................\n",
      " 11001\n",
      ".................................................\n",
      " 12001\n",
      ".................................................\n",
      " 13001\n",
      "...."
     ]
    }
   ],
   "source": [
    "model = np.zeros((num_unique_tracks,num_unique_tracks))\n",
    "for i, pid in enumerate(train_pids):\n",
    "    add_playlist(model, playlists.loc[playlists['pid'] == pid]['track_uri'])\n",
    "#     print(i)\n",
    "    if i % 1000 == 1:\n",
    "        print('\\n', i)\n",
    "    elif i % 20 == 1:\n",
    "        print('.', end='')\n"
   ]
  },
  {
   "cell_type": "code",
   "execution_count": 65,
   "metadata": {},
   "outputs": [],
   "source": [
    "# with open('naive-model.npy', 'wb') as f:\n",
    "#     np.save(f, model)\n",
    "\n",
    "# # with open('naive-model.npz', 'wb') as f:\n",
    "# #     save_npz(f, coo_matrix(model))"
   ]
  },
  {
   "cell_type": "code",
   "execution_count": 66,
   "metadata": {},
   "outputs": [],
   "source": [
    "def test_on_playlist(model, tracks, n=5):\n",
    "    tracks = [track_to_index[j] for _, j in tracks.items()]\n",
    "    temp = np.zeros(num_unique_tracks) + 1\n",
    "    ground_truth = []\n",
    "    for i, track in enumerate(tracks):\n",
    "        if i in selected_indices:\n",
    "            temp += model[track]\n",
    "        else:\n",
    "            ground_truth.append(track)\n",
    "    total = sum(temp)\n",
    "    raw = sorted(list(enumerate(temp)), key= lambda x: x[1], reverse=True)\n",
    "    tally = 0\n",
    "    if n == '30%':\n",
    "        n = len(ground_truth)\n",
    "    elif n == '70%':\n",
    "        n = int(len(ground_truth) * 7 / 3)\n",
    "    for i in range(n):\n",
    "        if raw[i][0] in ground_truth:\n",
    "            tally += 1\n",
    "    return tally / n"
   ]
  },
  {
   "cell_type": "code",
   "execution_count": 67,
   "metadata": {},
   "outputs": [],
   "source": [
    "result = []\n",
    "for i, pid in enumerate(test_pids):\n",
    "    result.append(test_on_playlist(model, playlists.loc[playlists['pid'] == pid]['track_uri'], n=10))"
   ]
  },
  {
   "cell_type": "code",
   "execution_count": 68,
   "metadata": {},
   "outputs": [],
   "source": [
    "result_30pc = []\n",
    "for i, pid in enumerate(test_pids):\n",
    "    result_30pc.append(test_on_playlist(model, playlists.loc[playlists['pid'] == pid]['track_uri'], n='30%'))"
   ]
  },
  {
   "cell_type": "code",
   "execution_count": 69,
   "metadata": {},
   "outputs": [],
   "source": [
    "result_70pc = []\n",
    "for i, pid in enumerate(test_pids):\n",
    "    result_70pc.append(test_on_playlist(model, playlists.loc[playlists['pid'] == pid]['track_uri'], n='70%'))"
   ]
  },
  {
   "cell_type": "code",
   "execution_count": 71,
   "metadata": {},
   "outputs": [],
   "source": [
    "def get_ndcg_score(model, tracks, n=''):\n",
    "    tracks = [track_to_index[j] for _, j in tracks.items()]\n",
    "    temp = np.zeros(num_unique_tracks) + 1\n",
    "    ground_truth = []\n",
    "    for i, track in enumerate(tracks):\n",
    "        if i in selected_indices:\n",
    "            temp += model[track]\n",
    "        else:\n",
    "            ground_truth.append(track)\n",
    "    total = sum(temp)\n",
    "    raw = sorted(list(enumerate(temp)), key= lambda x: x[1], reverse=True)\n",
    "    if n == '30%':\n",
    "        n = len(ground_truth)\n",
    "    elif n == '70%':\n",
    "        n = int(len(ground_truth) * 7 / 3)\n",
    "    preds = []\n",
    "    for pred in raw[:n]:\n",
    "        preds.append(pred[0])\n",
    "    return ndcg(ground_truth, preds)"
   ]
  },
  {
   "cell_type": "code",
   "execution_count": 72,
   "metadata": {},
   "outputs": [],
   "source": [
    "ndcg_30pc = []\n",
    "for i, pid in enumerate(test_pids):\n",
    "    ndcg_30pc.append(get_ndcg_score(model, playlists.loc[playlists['pid'] == pid]['track_uri'], n='30%'))"
   ]
  },
  {
   "cell_type": "code",
   "execution_count": 73,
   "metadata": {},
   "outputs": [],
   "source": [
    "ndcg_70pc = []\n",
    "for i, pid in enumerate(test_pids):\n",
    "    ndcg_70pc.append(get_ndcg_score(model, playlists.loc[playlists['pid'] == pid]['track_uri'], n='70%'))"
   ]
  },
  {
   "cell_type": "code",
   "execution_count": 84,
   "metadata": {},
   "outputs": [
    {
     "data": {
      "text/plain": [
       "(1636, 5)"
      ]
     },
     "execution_count": 84,
     "metadata": {},
     "output_type": "execute_result"
    }
   ],
   "source": [
    "plot_scores = np.vstack([result, result_30pc, result_70pc, ndcg_30pc, ndcg_70pc]).T"
   ]
  },
  {
   "cell_type": "code",
   "execution_count": 99,
   "metadata": {},
   "outputs": [
    {
     "data": {
      "image/png": "[encoded data removed]",
      "text/plain": [
       "<Figure size 504x1800 with 5 Axes>"
      ]
     },
     "metadata": {
      "needs_background": "light"
     },
     "output_type": "display_data"
    }
   ],
   "source": [
    "score_names = ['Hit Rate (10 Predictions)','R-Precision (# of Withheld Tracks)','R-Precision (# of Calibration Tracks)','NDCG (# of Withheld Tracks)','NDCG (# of Calibration Tracks)']\n",
    "model_name = 'K Centroid'\n",
    "set_name = 'Test'\n",
    "\n",
    "# Plot each score\n",
    "fig, ax = plt.subplots(5,1, figsize=(7,25))\n",
    "for i in range(plot_scores.shape[1]):\n",
    "    scores = plot_scores[:,i]\n",
    "    sns.distplot(scores, kde=False, rug=False, hist_kws={'rwidth':1,'edgecolor':'white', 'alpha': 1}, ax=ax[i], color=\"#2C5E92\")\n",
    "    ax[i].axvline(np.mean(scores), label='Mean = {}'.format(round(np.mean(scores), 3)), color='k')\n",
    "    ax[i].legend()\n",
    "    ax[i].set_title(f'{score_names[i]} on the {set_name} Set, {model_name}')\n",
    "fig.tight_layout(rect=[0, 0.03, 1, 0.97])\n",
    "fig.suptitle(f'{model_name} Model Evaluation Metrics on the {set_name} Set', size='xx-large')\n",
    "plt.show()"
   ]
  },
  {
   "cell_type": "markdown",
   "metadata": {},
   "source": [
    "## K Means Clustering / K Centroid Model"
   ]
  },
  {
   "cell_type": "markdown",
   "metadata": {},
   "source": [
    "### Data Pre-Processing"
   ]
  },
  {
   "cell_type": "code",
   "execution_count": null,
   "metadata": {},
   "outputs": [],
   "source": [
    "print('Reading data into memory')\n",
    "pid_list = np.genfromtxt('/data/train_pids.csv', skip_header=1, dtype=int)\n",
    "playlistfile = '/data/playlists.csv'\n",
    "playlist_df = pd.read_csv(playlistfile)\n",
    "trackfile = '/data/songs_100000_feat_cleaned.csv'\n",
    "track_df = pd.read_csv(trackfile, index_col='track_uri')\n",
    "\n",
    "print('Finding playlist features')\n",
    "playlist_features = build_playlist_features(pid_list, playlist_df, track_df)\n",
    "playlist_features.to_csv('/data/playlist_features_train.csv')\n",
    "\n",
    "print('Finding top artists')\n",
    "# Find the top artists who dominate playlists\n",
    "top_playlist_defining_artists = playlist_features.artist_uri_top.value_counts(normalize=False)\n",
    "top_playlist_defining_artists.to_csv('/data/top_playlist_defining_artists_train_all.csv', header=True)\n",
    "top_playlist_defining_artists = playlist_features.artist_uri_top.value_counts().index.values[:50]\n",
    "np.savetxt('/data/top_playlist_defining_artists_train.csv', top_playlist_defining_artists, delimiter=',', fmt=\"%s\")\n",
    "\n",
    "# Keep only those artists who dominate playlists and one hot encode\n",
    "artists_to_keep = playlist_features.artist_uri_top.isin(top_playlist_defining_artists)\n",
    "playlist_features.artist_uri_top = playlist_features.artist_uri_top[artists_to_keep]\n",
    "playlist_features.artist_uri_freq = playlist_features.artist_uri_freq[artists_to_keep]\n",
    "playlist_features.artist_uri_freq.fillna(0, inplace=True)\n",
    "\n",
    "top_artist_dummies = pd.get_dummies(playlist_features.artist_uri_top)\n",
    "playlist_features = pd.concat([playlist_features, top_artist_dummies], axis=1)\n",
    "playlist_features.drop(['artist_uri_top'], axis=1, inplace=True)\n",
    "playlist_features.to_csv('/data/playlist_features_with_artists_train.csv')"
   ]
  },
  {
   "cell_type": "markdown",
   "metadata": {},
   "source": [
    "### K-Means Clustering"
   ]
  },
  {
   "cell_type": "code",
   "execution_count": null,
   "metadata": {},
   "outputs": [],
   "source": [
    "# Get the train features dataframe\n",
    "playlist_features = pd.read_csv('/data/playlist_features_with_artists_train.csv', index_col=0, header=0)\n",
    "playlist_list = playlist_features.index.values\n",
    "\n",
    "# Set desired number of clusters\n",
    "n_clusters = int(np.sqrt(len(playlist_features)))\n",
    "\n",
    "print('Making clusters')\n",
    "# Make clusters\n",
    "kmeans = KMeans(n_clusters=n_clusters, verbose=0, algorithm='auto')\n",
    "kmeans.fit(playlist_features)\n",
    "\n",
    "\n",
    "print('Saving clusters')\n",
    "# Saving the clusters\n",
    "pickle.dump(kmeans, open('/model/kmeans_cluster_train.pkl', 'wb'))\n",
    "cluster_centers = kmeans.cluster_centers_\n",
    "np.savetxt('/model/kmeans_cluster_centers_train.csv', cluster_centers, delimiter=',')\n",
    "\n",
    "# Saving the cluster label for each playlist in train (e.g., for track frequency table by cluster)\n",
    "cluster_labels = kmeans.labels_\n",
    "playlist_cluster_labels = np.column_stack((playlist_list, cluster_labels))\n",
    "np.savetxt('/model/playlist_cluster_labels_train.csv', playlist_cluster_labels, delimiter=',', fmt='%i')\n"
   ]
  },
  {
   "cell_type": "markdown",
   "metadata": {},
   "source": [
    "### Specification of the Nearest Centroid Model"
   ]
  },
  {
   "cell_type": "code",
   "execution_count": null,
   "metadata": {},
   "outputs": [],
   "source": [
    "cluster_centers = np.genfromtxt('/model/kmeans_cluster_centers_train.csv', skip_header=0, delimiter=',')\n",
    "\n",
    "# Fit the neighbors classifier\n",
    "nearest_cluster = NearestNeighbors(n_neighbors=1)\n",
    "nearest_cluster.fit(cluster_centers)\n",
    "pickle.dump(nearest_cluster, open('/model/nearest_cluster_train.pkl', 'wb'))"
   ]
  },
  {
   "cell_type": "markdown",
   "metadata": {},
   "source": [
    "### Development of Track Frequency Tables"
   ]
  },
  {
   "cell_type": "code",
   "execution_count": null,
   "metadata": {},
   "outputs": [],
   "source": [
    "print('Read in cluster labels')\n",
    "playlist_cluster_labels = pd.read_csv('/model/playlist_cluster_labels_train.csv', header=None, delimiter=',', dtype=int,\n",
    "                                      names=['pid', 'cluster_id'])\n",
    "clusters = np.unique(playlist_cluster_labels.cluster_id)\n",
    "\n",
    "print('Read in the playlist dataframe')\n",
    "playlistfile = '/data/playlists.csv'\n",
    "playlist_df = pd.read_csv(playlistfile, header=0, usecols=('pid', 'track_uri'))\n",
    "\n",
    "frequency_dict = {}\n",
    "\n",
    "print('Loop through the clusters and return the frequency each track for each cluster')\n",
    "for cluster in clusters:\n",
    "    cluster_pids = playlist_cluster_labels.pid[playlist_cluster_labels.cluster_id == cluster]\n",
    "    tracks = playlist_df.track_uri[playlist_df.pid.isin(cluster_pids)]\n",
    "    track_frequencies = tracks.value_counts(normalize=True)\n",
    "    frequency_dict[cluster] = track_frequencies\n",
    "\n",
    "pickle.dump(frequency_dict, open('/model/cluster_track_frequencies.pkl', 'wb'))"
   ]
  },
  {
   "cell_type": "markdown",
   "metadata": {},
   "source": [
    "### Functions that Apply the K-Centroid Model to Return Predictions"
   ]
  },
  {
   "cell_type": "code",
   "execution_count": null,
   "metadata": {},
   "outputs": [],
   "source": [
    "def predict_cluster(model, track_uri_array=None, track_df=None, top_artists=None, pid: int = None,\n",
    "                    features_df: pd.DataFrame = None, return_features=False):\n",
    "    \"\"\"\n",
    "    :return: the predicted cluster id for the array of tracks provided\n",
    "    \"\"\"\n",
    "    # Load nearest cluster model\n",
    "    nearest_cluster = model\n",
    "\n",
    "    if pid:\n",
    "        stub_playlist_features = np.array(features_df.loc[pid, :]).reshape(1, -1)\n",
    "        dist, cluster_id = nearest_cluster.kneighbors(stub_playlist_features)\n",
    "        if return_features:\n",
    "            return int(cluster_id), stub_playlist_features\n",
    "        else:\n",
    "            return int(cluster_id)\n",
    "\n",
    "    else:\n",
    "\n",
    "        # Load list of dominating artists\n",
    "        top_playlist_defining_artists = top_artists\n",
    "\n",
    "        # Get summary features\n",
    "        stub_playlist_features = get_summary_features(track_uri_array, track_df)\n",
    "\n",
    "        artists_to_keep = stub_playlist_features.artist_uri_top.isin(top_playlist_defining_artists)\n",
    "        stub_playlist_features.artist_uri_top = stub_playlist_features.artist_uri_top[artists_to_keep]\n",
    "        stub_playlist_features.artist_uri_freq = stub_playlist_features.artist_uri_freq[artists_to_keep]\n",
    "        stub_playlist_features.artist_uri_freq.fillna(0, inplace=True)\n",
    "        stub_artist_dummies = pd.get_dummies(stub_playlist_features.artist_uri_top)\n",
    "        top_artist_dummies = pd.DataFrame(columns=top_playlist_defining_artists)\n",
    "        top_artist_dummies = pd.concat([top_artist_dummies, stub_artist_dummies], axis=0, sort=False)\n",
    "        top_artist_dummies.fillna(0, inplace=True)\n",
    "        stub_playlist_features = pd.concat([stub_playlist_features, top_artist_dummies], axis=1)\n",
    "        stub_playlist_features.drop(['artist_uri_top'], axis=1, inplace=True)\n",
    "\n",
    "        dist, cluster_id = nearest_cluster.kneighbors(stub_playlist_features)\n",
    "        if return_features:\n",
    "            return int(cluster_id), stub_playlist_features\n",
    "        else:\n",
    "            return int(cluster_id)\n",
    "\n",
    "\n",
    "def predict_tracks(track_uri_array=None, n_tracks='max', frequency_dict: dict = None, pid: int = None,\n",
    "                   features_df: pd.DataFrame = None,\n",
    "                   playlist_df: pd.DataFrame = None, track_df: pd.DataFrame = None, model=None,\n",
    "                   top_artists: np.ndarray = None, return_features=False):\n",
    "    \"\"\"\n",
    "    :param features_df:\n",
    "    :param return_features:\n",
    "    :param top_artists:\n",
    "    :param model:\n",
    "    :param track_df:\n",
    "    :param playlist_df:\n",
    "    :param frequency_dict:\n",
    "    :param track_uri_array: an array of tracks\n",
    "    :param n_tracks: The number of tracks to predict\n",
    "    :return: an array of predicted tracks and probabilities of length n_songs\n",
    "    \"\"\"\n",
    "\n",
    "    # Load nearest cluster model\n",
    "    if model is None: model = pickle.load(open('/model/nearest_cluster_train.pkl', 'rb'))\n",
    "    if playlist_df is None: playlist_df = pd.read_csv('/data/playlists.csv')\n",
    "    if track_df is None: track_df = pd.read_csv('/data/songs_100000_feat_cleaned.csv', index_col='track_uri')\n",
    "    if top_artists is None: top_artists = np.genfromtxt('/data/top_playlist_defining_artists_train.csv', usecols=0,\n",
    "                                                        skip_header=0, delimiter=',', dtype=str)\n",
    "    if frequency_dict is None: frequency_dict = pickle.load(open('/model/cluster_track_frequencies.pkl', 'rb'))\n",
    "\n",
    "    # Predict the cluster given the provided track_uris\n",
    "    if return_features:\n",
    "        predicted_cluster, features = predict_cluster(track_uri_array=track_uri_array, track_df=track_df, model=model,\n",
    "                                                      top_artists=top_artists,\n",
    "                                                      return_features=return_features, pid=pid, features_df=features_df)\n",
    "    else:\n",
    "        predicted_cluster = predict_cluster(track_uri_array=track_uri_array, track_df=track_df, model=model,\n",
    "                                            top_artists=top_artists, pid=pid, features_df=features_df)\n",
    "\n",
    "    # Find the frequency with which tracks appear in that cluster\n",
    "    track_frequencies = frequency_dict[predicted_cluster]\n",
    "\n",
    "    # Exclude tracks which are already in the input track_uri_array\n",
    "    excluded_recommendations = track_frequencies.index.isin(track_uri_array)\n",
    "    track_frequencies = track_frequencies[~excluded_recommendations]\n",
    "\n",
    "    # Return n_tracks predictions\n",
    "    track_predictions = track_frequencies.reset_index()\n",
    "    track_predictions.columns = ['track_uri', 'probability']\n",
    "    if n_tracks == 'max':\n",
    "        n_tracks = len(track_predictions)\n",
    "    track_predictions = track_predictions.nlargest(n_tracks, 'probability')\n",
    "\n",
    "    if return_features:\n",
    "        return predicted_cluster, track_predictions, features\n",
    "    else:\n",
    "        return predicted_cluster, track_predictions"
   ]
  },
  {
   "cell_type": "markdown",
   "metadata": {},
   "source": [
    "### Evaluation on the Test Set"
   ]
  },
  {
   "cell_type": "code",
   "execution_count": null,
   "metadata": {},
   "outputs": [],
   "source": [
    "start_time = time.time(), time.ctime()\n",
    "print(f'Start time: {start_time[1]}')\n",
    "\n",
    "# Build df of playlists to classify in clusters\n",
    "test_pids = np.genfromtxt('/data/test_pids.csv', skip_header=1, dtype=int)\n",
    "\n",
    "# Import data to memory so it is not loaded from disk for every loop iteration\n",
    "playlist_df = pd.read_csv('/data/playlists.csv')\n",
    "track_df = pd.read_csv('/data/songs_100000_feat_cleaned.csv', index_col='track_uri')\n",
    "top_artists = np.genfromtxt('/data/top_playlist_defining_artists_train.csv', usecols=0,\n",
    "                            skip_header=0, delimiter=',', dtype=str)\n",
    "\n",
    "# Create output vessels\n",
    "test_stub_feat_dfs = [None] * len(test_pids)\n",
    "errors = 0\n",
    "\n",
    "# Loop through pids and make features\n",
    "for idx, pid in enumerate(test_pids):\n",
    "    try:\n",
    "        stub_tracks, withhold_tracks = stub_withhold_split(pid)\n",
    "        stub_playlist_feats = val_test_features(stub_tracks, track_df=track_df, top_artists=top_artists, pid=pid)\n",
    "        test_stub_feat_dfs[idx] = stub_playlist_feats\n",
    "    except Exception as e:\n",
    "        print(f'Error for pid {pid}: \\n{e}')\n",
    "        errors += 1\n",
    "\n",
    "    if (idx + 1) % 100 == 0:\n",
    "        print(f'[{time.ctime()}] Progress {idx + 1} playlists and {errors} errors')\n",
    "\n",
    "playlist_features_test = pd.concat(test_stub_feat_dfs, axis=0)\n",
    "\n",
    "end_time = time.time(), time.ctime()\n",
    "time_elapsed = end_time[0] - start_time[0]\n",
    "time_elapsed = time.strftime('%H:%M:%S', time.gmtime(time_elapsed))\n",
    "print(f'End time: {end_time[1]}, Time elapsed: {time_elapsed}')\n",
    "\n",
    "# Save output\n",
    "playlist_features_test.to_csv('/data/playlist_features_with_artists_test.csv', sep=',', index=True)"
   ]
  },
  {
   "cell_type": "code",
   "execution_count": null,
   "metadata": {},
   "outputs": [],
   "source": [
    "# Make predictions\n",
    "start_time = time.time(), time.ctime()\n",
    "print(f'Start time: {start_time[1]}')\n",
    "\n",
    "# Build df of playlists to classify in clusters\n",
    "\n",
    "# Import data to memory so it is not loaded from disk for every loop iteration\n",
    "model = pickle.load(open('/model/nearest_cluster_train.pkl', 'rb'))\n",
    "playlist_df = pd.read_csv('/data/playlists.csv')\n",
    "track_df = pd.read_csv('/data/songs_100000_feat_cleaned.csv', index_col='track_uri')\n",
    "top_artists = np.genfromtxt('/data/top_playlist_defining_artists_train.csv', usecols=0,\n",
    "                            skip_header=0, delimiter=',', dtype=str)\n",
    "frequency_dict = pickle.load(open('/model/cluster_track_frequencies.pkl', 'rb'))\n",
    "features_df = pd.read_csv('/data/playlist_features_with_artists_test.csv', index_col=0)\n",
    "\n",
    "# Create output vessels\n",
    "test_clusters = pd.DataFrame(index=pd.Index(test_pids), columns=['cluster_id', 'n_predictions'])\n",
    "test_predictions = {}\n",
    "test_withheld = {}\n",
    "errors = 0\n",
    "\n",
    "# Loop through pids and make predictions\n",
    "for idx, pid in enumerate(test_pids):\n",
    "    try:\n",
    "        stub_tracks, withhold_tracks = stub_withhold_split(pid)\n",
    "        cluster, predictions = predict_tracks(track_uri_array=stub_tracks, n_tracks=len(stub_tracks),\n",
    "                                              frequency_dict=frequency_dict,\n",
    "                                              playlist_df=playlist_df, track_df=track_df, model=model,\n",
    "                                              top_artists=top_artists, pid=pid, features_df=features_df)\n",
    "        test_predictions[pid] = predictions\n",
    "        test_withheld[pid] = withhold_tracks\n",
    "        test_clusters.at[pid, :] = cluster, predictions.shape[0]\n",
    "    except Exception as e:\n",
    "        print(f'Error for pid {pid}: \\n{e}')\n",
    "        test_clusters.at[pid, :] = np.NaN, np.NaN\n",
    "        errors += 1\n",
    "\n",
    "    if (idx + 1) % 100 == 0:\n",
    "        print(f'[{time.ctime()}] Progress {idx + 1} playlists and {errors} errors')\n",
    "\n",
    "end_time = time.time(), time.ctime()\n",
    "time_elapsed = end_time[0] - start_time[0]\n",
    "time_elapsed = time.strftime('%H:%M:%S', time.gmtime(time_elapsed))\n",
    "print(f'End time: {end_time[1]}, Time elapsed: {time_elapsed}')\n",
    "\n",
    "# Save output\n",
    "test_clusters.to_csv('/model/k_means_clusters_test.csv', sep=',', index=True)\n",
    "pickle.dump(test_predictions, open('/model/k_means_predictions_test.pkl', 'wb'))\n",
    "pickle.dump(test_withheld, open('/model/k_means_withheld_test.pkl', 'wb'))"
   ]
  },
  {
   "cell_type": "code",
   "execution_count": null,
   "metadata": {},
   "outputs": [],
   "source": [
    "# Load predictions for the test set and evaluate\n",
    "test_clusters = np.genfromtxt('/model/k_means_clusters_test.csv', skip_header=1, dtype=int, delimiter=',', usecols=[0, 1])\n",
    "test_predictions = pickle.load(open('/model/k_means_predictions_test.pkl', 'rb'))\n",
    "test_withheld = pickle.load(open('/model/k_means_withheld_test.pkl', 'rb'))\n",
    "\n",
    "# Create output vessel\n",
    "test_scores = np.zeros((test_clusters.shape[0], 7))\n",
    "\n",
    "for idx, (pid, cluster_id) in enumerate(test_clusters):\n",
    "    # Load list of withheld tracks\n",
    "    withhold_tracks = test_withheld[pid]\n",
    "\n",
    "    # Load list of predicted tracks\n",
    "    predictions = test_predictions[pid].track_uri\n",
    "\n",
    "    # Figure out how many tracks to use in the scoring (and don't score for more than predicted)\n",
    "    n_predictions = len(predictions)\n",
    "    n_10 = min(n_predictions, 10)\n",
    "    n_withheld = min(n_predictions, len(withhold_tracks))\n",
    "    n_7withheld_over_3 = min(n_predictions, int(n_withheld * 7 / 3))\n",
    "\n",
    "    predictions_10 = predictions[:n_10]\n",
    "    predictions_n_withheld = predictions[:n_withheld]\n",
    "    predictions_7withheld_over_3 = predictions[:n_7withheld_over_3]\n",
    "\n",
    "    # Score the predictions!\n",
    "    hit_rate_10 = hit_rate(withhold_tracks=withhold_tracks, predicted_tracks=predictions_10)\n",
    "    rps_withheld = r_precision(withhold_tracks=withhold_tracks, predicted_tracks=predictions_n_withheld)\n",
    "    rps_7withheld_over_3 = r_precision(withhold_tracks=withhold_tracks, predicted_tracks=predictions_7withheld_over_3)\n",
    "    ndcg_withheld = ndcg(withhold_tracks=withhold_tracks, predicted_tracks=predictions_n_withheld)\n",
    "    ndcg_7withheld_over_3 = ndcg(withhold_tracks=withhold_tracks, predicted_tracks=predictions_7withheld_over_3)\n",
    "\n",
    "    # Write to array\n",
    "    test_scores[\n",
    "        idx] = pid, cluster_id, hit_rate_10, rps_withheld, rps_7withheld_over_3, ndcg_withheld, ndcg_7withheld_over_3\n",
    "\n",
    "np.savetxt(\"model/k9_scores_test.csv\", test_scores, delimiter=\",\",\n",
    "           header='pid,cluster_id,hit_rate_10,rps_withheld,rps_7withheld_over_3,ndcg_withheld,ndcg_7withheld_over_3')"
   ]
  },
  {
   "cell_type": "markdown",
   "metadata": {},
   "source": [
    "### Evaluation Plots"
   ]
  },
  {
   "cell_type": "code",
   "execution_count": 57,
   "metadata": {
    "scrolled": false
   },
   "outputs": [
    {
     "data": {
      "image/png": "[encoded data removed]",
      "text/plain": [
       "<Figure size 504x1800 with 5 Axes>"
      ]
     },
     "metadata": {
      "needs_background": "light"
     },
     "output_type": "display_data"
    }
   ],
   "source": [
    "# Load score data\n",
    "test_scores = np.genfromtxt('model/k9_scores_test.csv', skip_header=0, delimiter=',', dtype=float)\n",
    "plot_scores = test_scores[:,2:]\n",
    "score_names = ['Hit Rate (10 Predictions)','R-Precision (# of Withheld Tracks)','R-Precision (# of Calibration Tracks)','NDCG (# of Withheld Tracks)','NDCG (# of Calibration Tracks)']\n",
    "model_name = 'K Centroid'\n",
    "set_name = 'Test'\n",
    "\n",
    "# Plot each score\n",
    "fig, ax = plt.subplots(5,1, figsize=(7,25))\n",
    "for i in range(plot_scores.shape[1]):\n",
    "    scores = plot_scores[:,i]\n",
    "    sns.distplot(scores, kde=False, rug=False, hist_kws={'rwidth':1,'edgecolor':'white', 'alpha': 1}, ax=ax[i], color=\"#1db954\")\n",
    "    ax[i].axvline(np.mean(scores), label='Mean = {}'.format(round(np.mean(scores), 3)), color='k')\n",
    "    ax[i].legend()\n",
    "    ax[i].set_title(f'{score_names[i]} on the {set_name} Set, {model_name}')\n",
    "fig.tight_layout(rect=[0, 0.03, 1, 0.97])\n",
    "fig.suptitle(f'{model_name} Model Evaluation Metrics on the {set_name} Set', size='xx-large')\n",
    "plt.show()"
   ]
  }
 ],
 "metadata": {
  "kernelspec": {
   "display_name": "Python 3",
   "language": "python",
   "name": "python3"
  },
  "language_info": {
   "codemirror_mode": {
    "name": "ipython",
    "version": 3
   },
   "file_extension": ".py",
   "mimetype": "text/x-python",
   "name": "python",
   "nbconvert_exporter": "python",
   "pygments_lexer": "ipython3",
   "version": "3.7.3"
  }
 },
 "nbformat": 4,
 "nbformat_minor": 2
}
